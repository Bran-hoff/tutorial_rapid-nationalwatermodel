{
 "cells": [
  {
   "cell_type": "markdown",
   "metadata": {},
   "source": [
    "## Quick Start Tutorial "
   ]
  },
  {
   "cell_type": "markdown",
   "metadata": {},
   "source": [
    "### Example 1: use NwmHs class to download data (Recommended method)"
   ]
  },
  {
   "cell_type": "markdown",
   "metadata": {},
   "source": [
    "Import NwmHs class and download data with get_data() method. Details of parameter settings for get_data() method could be found [here](https://nwm.readthedocs.io/en/latest/#parameter-settings)."
   ]
  },
  {
   "cell_type": "code",
   "execution_count": null,
   "metadata": {
    "scrolled": true
   },
   "outputs": [],
   "source": [
    "import matplotlib.pyplot as plt\n",
    "from nwm import NwmHs\n",
    "\n",
    "# get data from National water model HydroShare App\n",
    "dataset = NwmHs().get_data(archive='harvey', config='short_range', geom='channel_rt',\n",
    "                           variable='streamflow', comid=[5781915], init_time=0, \n",
    "                           start_date='2017-08-23')"
   ]
  },
  {
   "cell_type": "markdown",
   "metadata": {},
   "source": [
    "The downloaded NWM dataset is stored as a self-described xarray object. With this data object, you can check the metadata information and make time series plot."
   ]
  },
  {
   "cell_type": "code",
   "execution_count": null,
   "metadata": {},
   "outputs": [],
   "source": [
    "# show metadata\n",
    "dataset.attrs\n",
    "\n",
    "# plot data\n",
    "plt.figure(figsize=(9,5))\n",
    "dataset.plot()\n",
    "plt.xlabel('Year 2017')\n",
    "plt.ylabel('{} ({})'.format(dataset.variable_name,dataset.variable_unit))\n",
    "plt.title('Short range streamflow forecast for Channel 5781915 during Harvey Hurricane Event')"
   ]
  },
  {
   "cell_type": "markdown",
   "metadata": {},
   "source": [
    "### Example 2: use BmiNwmHs class to download data (Demonstration of how to use BMI)"
   ]
  },
  {
   "cell_type": "markdown",
   "metadata": {},
   "source": [
    "Import BmiNwmHs class and instantiate it. A configuration file (yaml file) is required to provide the parameter settings for data download. An example configure_file.yaml file is provided in the same folder with this Jupyter Notebook file. "
   ]
  },
  {
   "cell_type": "code",
   "execution_count": null,
   "metadata": {},
   "outputs": [],
   "source": [
    "import matplotlib.pyplot as plt\n",
    "import numpy as np\n",
    "import cftime\n",
    "\n",
    "from nwm import BmiNwmHs\n",
    "\n",
    "# initiate a data component\n",
    "data_comp = BmiNwmHs()\n",
    "data_comp.initialize('config_file.yaml')"
   ]
  },
  {
   "cell_type": "markdown",
   "metadata": {},
   "source": [
    "Use variable related methods from BmiNwmHs class to check the variable information of the NWM dataset. This data component stores a flow forecast variable. "
   ]
  },
  {
   "cell_type": "code",
   "execution_count": null,
   "metadata": {},
   "outputs": [],
   "source": [
    "# get variable info\n",
    "var_name = data_comp.get_output_var_names()[0]\n",
    "var_unit = data_comp.get_var_units(var_name)\n",
    "print(' variable_name: {}\\n var_unit: {}\\n'.format(var_name, var_unit))"
   ]
  },
  {
   "cell_type": "markdown",
   "metadata": {},
   "source": [
    "Use time related methods of BmiNwmHs class to check the time information of the NWM dataset. The time values are stored in a format which follows [CF convention](http://cfconventions.org/Data/cf-conventions/cf-conventions-1.8/cf-conventions.pdf). "
   ]
  },
  {
   "cell_type": "code",
   "execution_count": null,
   "metadata": {},
   "outputs": [],
   "source": [
    "# get time info\n",
    "start_time = data_comp.get_start_time()\n",
    "end_time = data_comp.get_end_time()\n",
    "time_step = data_comp.get_time_step()\n",
    "time_unit = data_comp.get_time_units()\n",
    "time_steps = int((end_time - start_time)/time_step) + 1\n",
    "print(' start_time:{}\\n end_time:{}\\n time_step:{}\\n time_unit:{}\\n time_steps:{}\\n'.format(start_time, end_time, time_step, time_unit, time_steps))"
   ]
  },
  {
   "cell_type": "markdown",
   "metadata": {},
   "source": [
    "Loop through each time step to get the flow and time values. stream_array stores flow forecast values. cftime_array stores the numerical time values. time_array stores the corresopnding Python datetime objects. get_value() method returns the flow forecast value at each time step. update() method updates the current time step of the data component."
   ]
  },
  {
   "cell_type": "code",
   "execution_count": null,
   "metadata": {},
   "outputs": [],
   "source": [
    "# initiate numpy arrays to store data\n",
    "stream_value = np.empty(1)\n",
    "stream_array = np.empty(time_steps)\n",
    "cftime_array = np.empty(time_steps)\n",
    "\n",
    "for i in range(0, time_steps):\n",
    "    data_comp.get_value(var_name, stream_value)\n",
    "    stream_array[i] = stream_value\n",
    "    cftime_array[i] = data_comp.get_current_time()\n",
    "    data_comp.update()\n",
    "    \n",
    "time_array = cftime.num2date(cftime_array, time_unit, only_use_cftime_datetimes=False, only_use_python_datetimes=True)"
   ]
  },
  {
   "cell_type": "code",
   "execution_count": null,
   "metadata": {},
   "outputs": [],
   "source": [
    "# plot data\n",
    "plt.figure(figsize=(9,5))\n",
    "plt.plot(time_array, stream_array)\n",
    "plt.xlabel('Year 2017')\n",
    "plt.ylabel('{} ({})'.format(var_name, var_unit))\n",
    "plt.title('Short range streamflow forecast for Channel 5781915 during Harvey Hurricane Event')"
   ]
  }
 ],
 "metadata": {
  "kernelspec": {
   "display_name": "Python 3",
   "language": "python",
   "name": "python3"
  },
  "language_info": {
   "codemirror_mode": {
    "name": "ipython",
    "version": 3
   },
   "file_extension": ".py",
   "mimetype": "text/x-python",
   "name": "python",
   "nbconvert_exporter": "python",
   "pygments_lexer": "ipython3",
   "version": "3.7.4"
  }
 },
 "nbformat": 4,
 "nbformat_minor": 2
}
