{
 "cells": [
  {
   "cell_type": "code",
   "execution_count": null,
   "metadata": {},
   "outputs": [],
   "source": [
    "import matplotlib.pyplot as plt\n",
    "from nwm import Nwm\n",
    "\n",
    "# get data from National water model HydroShare App\n",
    "dataset = Nwm().get_data_from_hs()\n",
    "\n",
    "# show metadata\n",
    "dataset.attrs\n"
   ]
  },
  {
   "cell_type": "code",
   "execution_count": null,
   "metadata": {},
   "outputs": [],
   "source": [
    "# plot data\n",
    "dataset.plot()\n",
    "plt.ylabel('{}({})'.format(dataset.variable_unit_name,dataset.variable_unit))\n",
    "plt.title('{}; {}'.format(dataset.archive.upper(), dataset.site_name))"
   ]
  }
 ],
 "metadata": {
  "kernelspec": {
   "display_name": "Python 3",
   "language": "python",
   "name": "python3"
  },
  "language_info": {
   "codemirror_mode": {
    "name": "ipython",
    "version": 3
   },
   "file_extension": ".py",
   "mimetype": "text/x-python",
   "name": "python",
   "nbconvert_exporter": "python",
   "pygments_lexer": "ipython3",
   "version": "3.7.4"
  }
 },
 "nbformat": 4,
 "nbformat_minor": 2
}
