{
 "cells": [
  {
   "cell_type": "markdown",
   "metadata": {},
   "source": [
    "## Quick Start Tutorial "
   ]
  },
  {
   "cell_type": "markdown",
   "metadata": {},
   "source": [
    "### Example 1: use NwmHs class to download data (Recommended method)"
   ]
  },
  {
   "cell_type": "code",
   "execution_count": null,
   "metadata": {
    "scrolled": true
   },
   "outputs": [],
   "source": [
    "import matplotlib.pyplot as plt\n",
    "from nwm import NwmHs\n",
    "\n",
    "# get data from National water model HydroShare App\n",
    "dataset = NwmHs().get_data(archive='harvey', config='short_range', geom='channel_rt',\n",
    "                           variable='streamflow', comid=[5781915], init_time=0, \n",
    "                           start_date='2017-08-23')\n",
    "\n",
    "# show metadata\n",
    "dataset.attrs\n"
   ]
  },
  {
   "cell_type": "code",
   "execution_count": null,
   "metadata": {},
   "outputs": [],
   "source": [
    "# plot data\n",
    "dataset.plot()\n",
    "plt.xlabel('Year 2017')\n",
    "plt.ylabel('{}({})'.format(dataset.variable_unit_name,dataset.variable_unit))\n",
    "plt.title('Short range streamflow forecast for Channel 5781915 during Harvey Hurricane Event')"
   ]
  },
  {
   "cell_type": "markdown",
   "metadata": {},
   "source": [
    "### Example 2: use BmiNwmHs class to download data (Demonstration of how to use BMI)"
   ]
  },
  {
   "cell_type": "code",
   "execution_count": null,
   "metadata": {},
   "outputs": [],
   "source": [
    "import matplotlib.pyplot as plt\n",
    "import numpy as np\n",
    "import cftime\n",
    "\n",
    "from nwm import BmiNwmHs\n",
    "\n",
    "\n",
    "# initiate a data component\n",
    "data_comp = BmiNwmHs()\n",
    "data_comp.initialize('config_file.yaml')\n",
    "\n",
    "# get variable info\n",
    "var_name = data_comp.get_output_var_names()[0]\n",
    "var_unit = data_comp.get_var_units(var_name)\n",
    "\n",
    "# get time info\n",
    "start_time = data_comp.get_start_time()\n",
    "end_time = data_comp.get_end_time()\n",
    "time_step = data_comp.get_time_step()\n",
    "time_unit = data_comp.get_time_units()\n",
    "time_steps = int((end_time - start_time)/time_step) + 1\n",
    "\n",
    "# initiate numpy arrays to store data\n",
    "stream_value = np.empty(1)\n",
    "cftime_array = np.empty(time_steps)\n",
    "stream_array = np.empty(time_steps)\n",
    "\n",
    "for i in range(0, time_steps):\n",
    "    data_comp.get_value(var_name, stream_value)\n",
    "    stream_array[i] = stream_value\n",
    "    cftime_array[i] = data_comp.get_current_time()\n",
    "    data_comp.update()\n",
    "    \n",
    "time_array = cftime.num2date(cftime_array, time_unit, only_use_cftime_datetimes=False, only_use_python_datetimes=True)"
   ]
  },
  {
   "cell_type": "code",
   "execution_count": null,
   "metadata": {},
   "outputs": [],
   "source": [
    "# plot data\n",
    "plt.plot(time_array, stream_array)\n",
    "plt.xlabel('Year 2017')\n",
    "plt.ylabel('{} ({})'.format(var_name, var_unit))\n",
    "plt.title('Short range streamflow forecast for Channel 5781915 during Harvey Hurricane Event')"
   ]
  }
 ],
 "metadata": {
  "kernelspec": {
   "display_name": "Python 3",
   "language": "python",
   "name": "python3"
  },
  "language_info": {
   "codemirror_mode": {
    "name": "ipython",
    "version": 3
   },
   "file_extension": ".py",
   "mimetype": "text/x-python",
   "name": "python",
   "nbconvert_exporter": "python",
   "pygments_lexer": "ipython3",
   "version": "3.7.4"
  }
 },
 "nbformat": 4,
 "nbformat_minor": 2
}
