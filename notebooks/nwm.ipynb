{
 "cells": [
  {
   "cell_type": "markdown",
   "metadata": {},
   "source": [
    "# Quick Start Tutorial\n",
    "\n",
    "This notebook provides an introduction of how to use functions from nwm Python package.\n",
    "\n"
   ]
  },
  {
   "cell_type": "code",
   "execution_count": null,
   "metadata": {},
   "outputs": [],
   "source": [
    "import matplotlib.pyplot as plt\n",
    "from nwm import Nwm\n",
    "\n",
    "# get data from National water model HydroShare App\n",
    "dataset = Nwm().get_data_from_hs()\n",
    "\n",
    "# show metadata\n",
    "dataset.attrs\n",
    "\n",
    "# plot data\n",
    "dataset.plot()\n",
    "plt.ylabel('{}({})'.format(dataset.variable_unit_name,dataset.variable_unit))\n",
    "plt.title('{}; {}'.format(dataset.archive.upper(), dataset.site_name))"
   ]
  }
 ],
 "metadata": {
  "kernelspec": {
   "display_name": "Python 3",
   "language": "python",
   "name": "python3"
  },
  "language_info": {
   "codemirror_mode": {
    "name": "ipython",
    "version": 3
   },
   "file_extension": ".py",
   "mimetype": "text/x-python",
   "name": "python",
   "nbconvert_exporter": "python",
   "pygments_lexer": "ipython3",
   "version": "3.7.4"
  }
 },
 "nbformat": 4,
 "nbformat_minor": 2
}
